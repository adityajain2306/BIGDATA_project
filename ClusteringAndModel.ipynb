{
 "cells": [
  {
   "cell_type": "markdown",
   "id": "23a48cab",
   "metadata": {},
   "source": [
    "# Clustering of Bank_Transaction_clean.csv"
   ]
  },
  {
   "cell_type": "markdown",
   "id": "d73d2954",
   "metadata": {},
   "source": [
    "# Set Up PySpark"
   ]
  },
  {
   "cell_type": "code",
   "execution_count": 2,
   "id": "07231e06",
   "metadata": {},
   "outputs": [],
   "source": [
    "# Intialization\n",
    "import os\n",
    "import sys\n",
    "\n",
    "os.environ[\"SPARK_HOME\"] = \"/home/talentum/spark\"\n",
    "os.environ[\"PYLIB\"] = os.environ[\"SPARK_HOME\"] + \"/python/lib\"\n",
    "# In below two lines, use /usr/bin/python2.7 if you want to use Python 2\n",
    "os.environ[\"PYSPARK_PYTHON\"] = \"/usr/bin/python3.6\" \n",
    "os.environ[\"PYSPARK_DRIVER_PYTHON\"] = \"/usr/bin/python3\"\n",
    "sys.path.insert(0, os.environ[\"PYLIB\"] +\"/py4j-0.10.7-src.zip\")\n",
    "sys.path.insert(0, os.environ[\"PYLIB\"] +\"/pyspark.zip\")\n",
    "\n",
    "# NOTE: Whichever package you want mention here.\n",
    "# os.environ['PYSPARK_SUBMIT_ARGS'] = '--packages com.databricks:spark-xml_2.11:0.6.0 pyspark-shell' \n",
    "# os.environ['PYSPARK_SUBMIT_ARGS'] = '--packages org.apache.spark:spark-avro_2.11:2.4.0 pyspark-shell'\n",
    "os.environ['PYSPARK_SUBMIT_ARGS'] = '--packages com.databricks:spark-xml_2.11:0.6.0,org.apache.spark:spark-avro_2.11:2.4.3 pyspark-shell'\n",
    "# os.environ['PYSPARK_SUBMIT_ARGS'] = '--packages com.databricks:spark-xml_2.11:0.6.0,org.apache.spark:spark-avro_2.11:2.4.0 pyspark-shell'"
   ]
  },
  {
   "cell_type": "code",
   "execution_count": 3,
   "id": "9d9fcbda",
   "metadata": {},
   "outputs": [],
   "source": [
    "#Entrypoint 2.x\n",
    "from pyspark.sql import SparkSession\n",
    "spark = SparkSession.builder.appName(\"HierarchicalClustering\").enableHiveSupport().getOrCreate()\n",
    "\n",
    "# On yarn:\n",
    "# spark = SparkSession.builder.appName(\"Spark SQL basic example\").enableHiveSupport().master(\"yarn\").getOrCreate()\n",
    "# specify .master(\"yarn\")\n",
    "\n",
    "sc = spark.sparkContext"
   ]
  },
  {
   "cell_type": "markdown",
   "id": "8750401b",
   "metadata": {},
   "source": [
    "# Importing Libraries"
   ]
  },
  {
   "cell_type": "code",
   "execution_count": 3,
   "id": "c6aa73bc",
   "metadata": {},
   "outputs": [],
   "source": [
    "from pyspark.sql import SparkSession\n",
    "from pyspark.ml.feature import VectorAssembler, StandardScaler\n",
    "from pyspark.ml.clustering import BisectingKMeans"
   ]
  },
  {
   "cell_type": "markdown",
   "id": "ae5baa86",
   "metadata": {},
   "source": [
    "# Load the Data"
   ]
  },
  {
   "cell_type": "code",
   "execution_count": 4,
   "id": "4389d9fa",
   "metadata": {},
   "outputs": [],
   "source": [
    "data = spark.read.csv(\"file:///home/talentum/shared/C-DAC_Project/Bank_Transaction_clean.csv\", header=True, inferSchema=True)"
   ]
  },
  {
   "cell_type": "code",
   "execution_count": 5,
   "id": "6120f01d",
   "metadata": {},
   "outputs": [
    {
     "name": "stdout",
     "output_type": "stream",
     "text": [
      "+-------------+----------+----------+------------------+-------------------+--------------------+-----------+------------+\n",
      "|TransactionID|CustomerID|CustGender|CustAccountBalance|    TransactionDate|TransactionAmountINR|CustomerAge|CustLocation|\n",
      "+-------------+----------+----------+------------------+-------------------+--------------------+-----------+------------+\n",
      "|           T1|  C5841053|         F|          17819.05|2016-08-02 00:00:00|                25.0|         22|  JAMSHEDPUR|\n",
      "|           T3|  C4417068|         F|          17874.44|2016-08-02 00:00:00|               459.0|         19|      MUMBAI|\n",
      "|           T4|  C5342380|         F|          866503.2|2016-08-02 00:00:00|              2060.0|         43|      MUMBAI|\n",
      "|           T5|  C9031234|         F|           6714.43|2016-08-02 00:00:00|              1762.5|         28|      MUMBAI|\n",
      "|           T6|  C1536588|         F|           53609.2|2016-08-02 00:00:00|               676.0|         44|    ITANAGAR|\n",
      "+-------------+----------+----------+------------------+-------------------+--------------------+-----------+------------+\n",
      "only showing top 5 rows\n",
      "\n"
     ]
    }
   ],
   "source": [
    "data.show(5)"
   ]
  },
  {
   "cell_type": "code",
   "execution_count": 6,
   "id": "df866686",
   "metadata": {},
   "outputs": [
    {
     "name": "stdout",
     "output_type": "stream",
     "text": [
      "917533 8\n"
     ]
    }
   ],
   "source": [
    "# Count the number of rows and columns\n",
    "row_count = data.count()\n",
    "column_count = len(data.columns)\n",
    "print(row_count,column_count)"
   ]
  },
  {
   "cell_type": "markdown",
   "id": "53a65f72",
   "metadata": {},
   "source": [
    "# -----------------------------------Hierarchical Clustering-------------------------------------"
   ]
  },
  {
   "cell_type": "markdown",
   "id": "77841fd0",
   "metadata": {},
   "source": [
    "# Feature Selection\n",
    "#Select the features that you want to use for clustering. For this example, we'll use:\n",
    "\n",
    "#CustAccountBalance\n",
    "#TransactionAmountINR\n",
    "#CustomerAge"
   ]
  },
  {
   "cell_type": "code",
   "execution_count": 7,
   "id": "402dcd23",
   "metadata": {},
   "outputs": [],
   "source": [
    "from pyspark.ml.feature import VectorAssembler, StandardScaler\n",
    "\n",
    "# Select relevant numerical features for clustering\n",
    "feature_columns = ['CustAccountBalance', 'TransactionAmountINR', 'CustomerAge']"
   ]
  },
  {
   "cell_type": "code",
   "execution_count": 8,
   "id": "965057e9",
   "metadata": {},
   "outputs": [],
   "source": [
    "# Assemble the features into a single vector column\n",
    "assembler = VectorAssembler(inputCols=feature_columns, outputCol=\"features\")\n",
    "assembled_data = assembler.transform(data)"
   ]
  },
  {
   "cell_type": "markdown",
   "id": "6454f45d",
   "metadata": {},
   "source": [
    "# Standardize the features"
   ]
  },
  {
   "cell_type": "code",
   "execution_count": 9,
   "id": "9d730607",
   "metadata": {},
   "outputs": [],
   "source": [
    "scaler = StandardScaler(inputCol=\"features\", outputCol=\"scaledFeatures\", withStd=True, withMean=True)\n",
    "scaler_model = scaler.fit(assembled_data)\n",
    "scaled_data = scaler_model.transform(assembled_data)"
   ]
  },
  {
   "cell_type": "code",
   "execution_count": 10,
   "id": "ca5b635a",
   "metadata": {},
   "outputs": [
    {
     "name": "stdout",
     "output_type": "stream",
     "text": [
      "+--------------------+\n",
      "|      scaledFeatures|\n",
      "+--------------------+\n",
      "|[-0.1525368065267...|\n",
      "|[-0.1524116923635...|\n",
      "|[1.76445917186732...|\n",
      "|[-0.1776197680520...|\n",
      "|[-0.0716945124694...|\n",
      "+--------------------+\n",
      "only showing top 5 rows\n",
      "\n"
     ]
    }
   ],
   "source": [
    "# Show the scaled data\n",
    "scaled_data.select(\"scaledFeatures\").show(5)"
   ]
  },
  {
   "cell_type": "markdown",
   "id": "099c41ed",
   "metadata": {},
   "source": [
    "# Split the data into training and test sets"
   ]
  },
  {
   "cell_type": "code",
   "execution_count": 11,
   "id": "4dd62461",
   "metadata": {},
   "outputs": [
    {
     "name": "stdout",
     "output_type": "stream",
     "text": [
      "Training Data Count: 734368\n",
      "Test Data Count: 183165\n"
     ]
    }
   ],
   "source": [
    "# Split the data into training and test sets\n",
    "train_data, test_data = scaled_data.randomSplit([0.8, 0.2], seed=1234)\n",
    "\n",
    "# Show the count of each dataset\n",
    "print(f\"Training Data Count: {train_data.count()}\")\n",
    "print(f\"Test Data Count: {test_data.count()}\")"
   ]
  },
  {
   "cell_type": "markdown",
   "id": "e09431e2",
   "metadata": {},
   "source": [
    "# Perform Hierarchical Clustering using PySpark k=3"
   ]
  },
  {
   "cell_type": "markdown",
   "id": "8b5e1d7e",
   "metadata": {},
   "source": [
    "#Apply BisectingKMeans for hierarchical clustering on the training data"
   ]
  },
  {
   "cell_type": "code",
   "execution_count": 12,
   "id": "d5552657",
   "metadata": {},
   "outputs": [],
   "source": [
    "from pyspark.ml.clustering import BisectingKMeans\n",
    "\n",
    "# Apply BisectingKMeans for hierarchical clustering on the training data\n",
    "bkmeans = BisectingKMeans(k=3, featuresCol=\"scaledFeatures\", seed=1)\n",
    "model = bkmeans.fit(train_data)"
   ]
  },
  {
   "cell_type": "code",
   "execution_count": 13,
   "id": "dafa292b",
   "metadata": {},
   "outputs": [],
   "source": [
    "# Make predictions on the test data\n",
    "predictions = model.transform(test_data)"
   ]
  },
  {
   "cell_type": "code",
   "execution_count": 14,
   "id": "03d67c79",
   "metadata": {},
   "outputs": [
    {
     "name": "stdout",
     "output_type": "stream",
     "text": [
      "Within Set Sum of Squared Errors = 516457.1109158634\n"
     ]
    }
   ],
   "source": [
    "# Evaluate clustering by computing Within Set Sum of Squared Errors (WSSSE)\n",
    "wssse = model.computeCost(test_data)\n",
    "print(f\"Within Set Sum of Squared Errors = {wssse}\")"
   ]
  },
  {
   "cell_type": "code",
   "execution_count": 15,
   "id": "602c33fb",
   "metadata": {},
   "outputs": [
    {
     "name": "stdout",
     "output_type": "stream",
     "text": [
      "+-------------+----------+----------+\n",
      "|TransactionID|CustomerID|prediction|\n",
      "+-------------+----------+----------+\n",
      "|           T1|  C5841053|         0|\n",
      "|          T10|  C6638934|         2|\n",
      "|         T100|  C1713934|         2|\n",
      "|      T100008|  C8632241|         1|\n",
      "|      T100020|  C2466557|         2|\n",
      "+-------------+----------+----------+\n",
      "only showing top 5 rows\n",
      "\n"
     ]
    }
   ],
   "source": [
    "# Show some of the predictions\n",
    "predictions.select(\"TransactionID\", \"CustomerID\", \"prediction\").show(5)"
   ]
  },
  {
   "cell_type": "markdown",
   "id": "44ea7456",
   "metadata": {},
   "source": [
    "# Evaluate the Model"
   ]
  },
  {
   "cell_type": "code",
   "execution_count": 16,
   "id": "58d5726b",
   "metadata": {},
   "outputs": [
    {
     "name": "stdout",
     "output_type": "stream",
     "text": [
      "Silhouette Score = 0.1774224231267608\n"
     ]
    }
   ],
   "source": [
    "from pyspark.ml.evaluation import ClusteringEvaluator\n",
    "\n",
    "# Evaluate clustering by computing Silhouette Score\n",
    "evaluator = ClusteringEvaluator(featuresCol=\"scaledFeatures\")\n",
    "silhouette = evaluator.evaluate(predictions)\n",
    "print(f\"Silhouette Score = {silhouette}\")"
   ]
  },
  {
   "cell_type": "code",
   "execution_count": 17,
   "id": "0e8282b1",
   "metadata": {},
   "outputs": [],
   "source": [
    "# Silhouette Score = 0.1774224231267608\n",
    "# means clusters are overlapping\n",
    "# not a really good segmentation"
   ]
  },
  {
   "cell_type": "markdown",
   "id": "cb2fed8e",
   "metadata": {},
   "source": [
    "# Visualizing the Cluster Centers"
   ]
  },
  {
   "cell_type": "code",
   "execution_count": 18,
   "id": "68282332",
   "metadata": {},
   "outputs": [
    {
     "data": {
      "image/png": "[encoded data removed]",
      "text/plain": [
       "<Figure size 720x432 with 1 Axes>"
      ]
     },
     "metadata": {
      "needs_background": "light"
     },
     "output_type": "display_data"
    }
   ],
   "source": [
    "import matplotlib.pyplot as plt\n",
    "import pandas as pd\n",
    "\n",
    "# Get the cluster centers from the model\n",
    "centers = model.clusterCenters()\n",
    "\n",
    "# Convert the centers to a Pandas DataFrame for easier plotting\n",
    "centers_df = pd.DataFrame(centers, columns=feature_columns)\n",
    "\n",
    "# Plot the cluster centers\n",
    "plt.figure(figsize=(10, 6))\n",
    "plt.scatter(centers_df['CustAccountBalance'], centers_df['TransactionAmountINR'], \n",
    "            s=300, c='red', marker='x', label='Cluster Centers')\n",
    "plt.xlabel('Customer Account Balance')\n",
    "plt.ylabel('Transaction Amount INR')\n",
    "plt.title('Cluster Centers')\n",
    "plt.legend()\n",
    "plt.show()"
   ]
  },
  {
   "cell_type": "markdown",
   "id": "3f6fd856",
   "metadata": {},
   "source": [
    "# Perform Hierarchical Clustering using PySpark k=4"
   ]
  },
  {
   "cell_type": "code",
   "execution_count": 19,
   "id": "29d2f2c4",
   "metadata": {},
   "outputs": [],
   "source": [
    "from pyspark.ml.clustering import BisectingKMeans\n",
    "\n",
    "bkmeans = BisectingKMeans(k=4, featuresCol=\"scaledFeatures\", seed=1)\n",
    "model = bkmeans.fit(train_data)"
   ]
  },
  {
   "cell_type": "code",
   "execution_count": 20,
   "id": "39fcd5dd",
   "metadata": {},
   "outputs": [],
   "source": [
    "#Make predictions on the test data\n",
    "predictions = model.transform(test_data)"
   ]
  },
  {
   "cell_type": "code",
   "execution_count": 21,
   "id": "a4c2c3d9",
   "metadata": {},
   "outputs": [
    {
     "name": "stdout",
     "output_type": "stream",
     "text": [
      "Within Set Sum of Squared Errors = 421785.46341206576\n"
     ]
    }
   ],
   "source": [
    "#Evaluate clustering by computing Within Set Sum of Squared Errors (WSSSE)\n",
    "wssse = model.computeCost(test_data)\n",
    "print(f\"Within Set Sum of Squared Errors = {wssse}\")"
   ]
  },
  {
   "cell_type": "code",
   "execution_count": 22,
   "id": "8364ab1b",
   "metadata": {},
   "outputs": [
    {
     "name": "stdout",
     "output_type": "stream",
     "text": [
      "+-------------+----------+----------+\n",
      "|TransactionID|CustomerID|prediction|\n",
      "+-------------+----------+----------+\n",
      "|           T1|  C5841053|         0|\n",
      "|          T10|  C6638934|         2|\n",
      "|         T100|  C1713934|         2|\n",
      "|      T100008|  C8632241|         1|\n",
      "|      T100020|  C2466557|         2|\n",
      "+-------------+----------+----------+\n",
      "only showing top 5 rows\n",
      "\n"
     ]
    }
   ],
   "source": [
    "# Show some of the predictions\n",
    "predictions.select(\"TransactionID\", \"CustomerID\", \"prediction\").show(5)"
   ]
  },
  {
   "cell_type": "code",
   "execution_count": 23,
   "id": "139aa7cd",
   "metadata": {},
   "outputs": [
    {
     "name": "stdout",
     "output_type": "stream",
     "text": [
      "Silhouette Score = 0.3844893147205863\n"
     ]
    }
   ],
   "source": [
    "#Evaluate the Model when k=4\n",
    "from pyspark.ml.evaluation import ClusteringEvaluator\n",
    "\n",
    "# Evaluate clustering by computing Silhouette Score\n",
    "evaluator = ClusteringEvaluator(featuresCol=\"scaledFeatures\")\n",
    "silhouette = evaluator.evaluate(predictions)\n",
    "print(f\"Silhouette Score = {silhouette}\")"
   ]
  },
  {
   "cell_type": "code",
   "execution_count": 24,
   "id": "2c15840a",
   "metadata": {},
   "outputs": [],
   "source": [
    "# Silhouette Score = 0.3844893147205863~0.4\n",
    "# means clustering has a moderate level of quality\n",
    "# Average segmentation"
   ]
  },
  {
   "cell_type": "code",
   "execution_count": 25,
   "id": "6d2c0c8a",
   "metadata": {},
   "outputs": [
    {
     "data": {
      "image/png": "[encoded data removed]",
      "text/plain": [
       "<Figure size 720x432 with 1 Axes>"
      ]
     },
     "metadata": {
      "needs_background": "light"
     },
     "output_type": "display_data"
    }
   ],
   "source": [
    "# Visual Represetation\n",
    "# Get the cluster centers from the model\n",
    "centers = model.clusterCenters()\n",
    "\n",
    "# Convert the centers to a Pandas DataFrame for easier plotting\n",
    "centers_df = pd.DataFrame(centers, columns=feature_columns)\n",
    "\n",
    "# Plot the cluster centers\n",
    "plt.figure(figsize=(10, 6))\n",
    "plt.scatter(centers_df['CustAccountBalance'], centers_df['TransactionAmountINR'], \n",
    "            s=300, c='red', marker='x', label='Cluster Centers')\n",
    "plt.xlabel('Customer Account Balance')\n",
    "plt.ylabel('Transaction Amount INR')\n",
    "plt.title('Cluster Centers')\n",
    "plt.legend()\n",
    "plt.show()"
   ]
  },
  {
   "cell_type": "markdown",
   "id": "c952c0f2",
   "metadata": {},
   "source": [
    "# Perform Hierarchical Clustering using PySpark k=5"
   ]
  },
  {
   "cell_type": "code",
   "execution_count": 26,
   "id": "5d3a805b",
   "metadata": {},
   "outputs": [],
   "source": [
    "from pyspark.ml.clustering import BisectingKMeans\n",
    "\n",
    "# Apply BisectingKMeans for hierarchical clustering on the training data\n",
    "bkmeans = BisectingKMeans(k=5, featuresCol=\"scaledFeatures\", seed=1)\n",
    "model = bkmeans.fit(train_data)"
   ]
  },
  {
   "cell_type": "code",
   "execution_count": 27,
   "id": "61aae502",
   "metadata": {},
   "outputs": [],
   "source": [
    "# Make predictions on the test data\n",
    "predictions = model.transform(test_data)"
   ]
  },
  {
   "cell_type": "code",
   "execution_count": 28,
   "id": "98351d03",
   "metadata": {},
   "outputs": [
    {
     "name": "stdout",
     "output_type": "stream",
     "text": [
      "Within Set Sum of Squared Errors = 416709.6227938428\n"
     ]
    }
   ],
   "source": [
    "# Evaluate clustering by computing Within Set Sum of Squared Errors (WSSSE)\n",
    "wssse = model.computeCost(test_data)\n",
    "print(f\"Within Set Sum of Squared Errors = {wssse}\")"
   ]
  },
  {
   "cell_type": "code",
   "execution_count": 29,
   "id": "125cfaed",
   "metadata": {},
   "outputs": [
    {
     "name": "stdout",
     "output_type": "stream",
     "text": [
      "+-------------+----------+----------+\n",
      "|TransactionID|CustomerID|prediction|\n",
      "+-------------+----------+----------+\n",
      "|           T1|  C5841053|         0|\n",
      "|          T10|  C6638934|         3|\n",
      "|         T100|  C1713934|         3|\n",
      "|      T100008|  C8632241|         2|\n",
      "|      T100020|  C2466557|         3|\n",
      "+-------------+----------+----------+\n",
      "only showing top 5 rows\n",
      "\n"
     ]
    }
   ],
   "source": [
    "# Show some of the predictions\n",
    "predictions.select(\"TransactionID\", \"CustomerID\", \"prediction\").show(5)"
   ]
  },
  {
   "cell_type": "code",
   "execution_count": 30,
   "id": "e4e10a92",
   "metadata": {},
   "outputs": [
    {
     "name": "stdout",
     "output_type": "stream",
     "text": [
      "Silhouette Score = 0.22922364032328763\n"
     ]
    }
   ],
   "source": [
    "#Evaluate the Model\n",
    "from pyspark.ml.evaluation import ClusteringEvaluator\n",
    "\n",
    "# Evaluate clustering by computing Silhouette Score\n",
    "evaluator = ClusteringEvaluator(featuresCol=\"scaledFeatures\")\n",
    "silhouette = evaluator.evaluate(predictions)\n",
    "print(f\"Silhouette Score = {silhouette}\")"
   ]
  },
  {
   "cell_type": "code",
   "execution_count": 31,
   "id": "98e7231c",
   "metadata": {},
   "outputs": [],
   "source": [
    "# Silhouette Score = 0.22922364032328763\n",
    "# means some clusters are little overlapping\n",
    "# not a really good segmentation"
   ]
  },
  {
   "cell_type": "code",
   "execution_count": 32,
   "id": "23975b1a",
   "metadata": {},
   "outputs": [
    {
     "data": {
      "image/png": "[encoded data removed]",
      "text/plain": [
       "<Figure size 720x432 with 1 Axes>"
      ]
     },
     "metadata": {
      "needs_background": "light"
     },
     "output_type": "display_data"
    }
   ],
   "source": [
    "# Visual Represetation\n",
    "# Get the cluster centers from the model\n",
    "centers = model.clusterCenters()\n",
    "\n",
    "# Convert the centers to a Pandas DataFrame for easier plotting\n",
    "centers_df = pd.DataFrame(centers, columns=feature_columns)\n",
    "\n",
    "# Plot the cluster centers\n",
    "plt.figure(figsize=(10, 6))\n",
    "plt.scatter(centers_df['CustAccountBalance'], centers_df['TransactionAmountINR'], \n",
    "            s=300, c='red', marker='x', label='Cluster Centers')\n",
    "plt.xlabel('Customer Account Balance')\n",
    "plt.ylabel('Transaction Amount INR')\n",
    "plt.title('Cluster Centers')\n",
    "plt.legend()\n",
    "plt.show()"
   ]
  },
  {
   "cell_type": "markdown",
   "id": "1c4cc2e6",
   "metadata": {},
   "source": [
    "# Perform Hierarchical Clustering using PySpark k=6"
   ]
  },
  {
   "cell_type": "code",
   "execution_count": 33,
   "id": "2a487d58",
   "metadata": {},
   "outputs": [],
   "source": [
    "from pyspark.ml.clustering import BisectingKMeans\n",
    "\n",
    "# Apply BisectingKMeans for hierarchical clustering on the training data\n",
    "bkmeans = BisectingKMeans(k=6, featuresCol=\"scaledFeatures\", seed=1)\n",
    "model = bkmeans.fit(train_data)"
   ]
  },
  {
   "cell_type": "code",
   "execution_count": 34,
   "id": "d714a911",
   "metadata": {},
   "outputs": [],
   "source": [
    "# Make predictions on the test data\n",
    "predictions = model.transform(test_data)"
   ]
  },
  {
   "cell_type": "code",
   "execution_count": 35,
   "id": "bb353ec6",
   "metadata": {},
   "outputs": [
    {
     "name": "stdout",
     "output_type": "stream",
     "text": [
      "Within Set Sum of Squared Errors = 389168.6443254269\n"
     ]
    }
   ],
   "source": [
    "# Evaluate clustering by computing Within Set Sum of Squared Errors (WSSSE)\n",
    "wssse = model.computeCost(test_data)\n",
    "print(f\"Within Set Sum of Squared Errors = {wssse}\")"
   ]
  },
  {
   "cell_type": "code",
   "execution_count": 36,
   "id": "717bdde3",
   "metadata": {},
   "outputs": [
    {
     "name": "stdout",
     "output_type": "stream",
     "text": [
      "+-------------+----------+----------+\n",
      "|TransactionID|CustomerID|prediction|\n",
      "+-------------+----------+----------+\n",
      "|           T1|  C5841053|         0|\n",
      "|          T10|  C6638934|         3|\n",
      "|         T100|  C1713934|         3|\n",
      "|      T100008|  C8632241|         2|\n",
      "|      T100020|  C2466557|         3|\n",
      "+-------------+----------+----------+\n",
      "only showing top 5 rows\n",
      "\n"
     ]
    }
   ],
   "source": [
    "# Show some of the predictions\n",
    "predictions.select(\"TransactionID\", \"CustomerID\", \"prediction\").show(5)"
   ]
  },
  {
   "cell_type": "code",
   "execution_count": 37,
   "id": "94812ec0",
   "metadata": {},
   "outputs": [
    {
     "name": "stdout",
     "output_type": "stream",
     "text": [
      "Silhouette Score = 0.2915497689612963\n"
     ]
    }
   ],
   "source": [
    "from pyspark.ml.evaluation import ClusteringEvaluator\n",
    "\n",
    "# Evaluate clustering by computing Silhouette Score\n",
    "evaluator = ClusteringEvaluator(featuresCol=\"scaledFeatures\")\n",
    "silhouette = evaluator.evaluate(predictions)\n",
    "print(f\"Silhouette Score = {silhouette}\")"
   ]
  },
  {
   "cell_type": "code",
   "execution_count": 38,
   "id": "098b7994",
   "metadata": {},
   "outputs": [],
   "source": [
    "# Silhouette Score = 0.2915497689612963\n",
    "# means some clusters are little overlapping\n",
    "# not a really good segmentation"
   ]
  },
  {
   "cell_type": "code",
   "execution_count": 39,
   "id": "604ca3d1",
   "metadata": {},
   "outputs": [
    {
     "data": {
      "image/png": "[encoded data removed]",
      "text/plain": [
       "<Figure size 720x432 with 1 Axes>"
      ]
     },
     "metadata": {
      "needs_background": "light"
     },
     "output_type": "display_data"
    }
   ],
   "source": [
    "# Visual Represetation\n",
    "# Get the cluster centers from the model\n",
    "centers = model.clusterCenters()\n",
    "\n",
    "# Convert the centers to a Pandas DataFrame for easier plotting\n",
    "centers_df = pd.DataFrame(centers, columns=feature_columns)\n",
    "\n",
    "# Plot the cluster centers\n",
    "plt.figure(figsize=(10, 6))\n",
    "plt.scatter(centers_df['CustAccountBalance'], centers_df['TransactionAmountINR'], \n",
    "            s=300, c='red', marker='x', label='Cluster Centers')\n",
    "plt.xlabel('Customer Account Balance')\n",
    "plt.ylabel('Transaction Amount INR')\n",
    "plt.title('Cluster Centers')\n",
    "plt.legend()\n",
    "plt.show()"
   ]
  },
  {
   "cell_type": "markdown",
   "id": "6f50d6ba",
   "metadata": {},
   "source": [
    "# Perform Hierarchical Clustering using PySpark k=8"
   ]
  },
  {
   "cell_type": "code",
   "execution_count": 40,
   "id": "55dddf1c",
   "metadata": {},
   "outputs": [],
   "source": [
    "from pyspark.ml.clustering import BisectingKMeans\n",
    "\n",
    "# Apply BisectingKMeans for hierarchical clustering on the training data\n",
    "bkmeans = BisectingKMeans(k=8, featuresCol=\"scaledFeatures\", seed=1)\n",
    "model = bkmeans.fit(train_data)"
   ]
  },
  {
   "cell_type": "code",
   "execution_count": 41,
   "id": "8eb807d8",
   "metadata": {},
   "outputs": [],
   "source": [
    "# Make predictions on the test data\n",
    "predictions = model.transform(test_data)"
   ]
  },
  {
   "cell_type": "code",
   "execution_count": 42,
   "id": "2115bc80",
   "metadata": {},
   "outputs": [
    {
     "name": "stdout",
     "output_type": "stream",
     "text": [
      "Within Set Sum of Squared Errors = 305029.1065373118\n"
     ]
    }
   ],
   "source": [
    "# Evaluate clustering by computing Within Set Sum of Squared Errors (WSSSE)\n",
    "wssse = model.computeCost(test_data)\n",
    "print(f\"Within Set Sum of Squared Errors = {wssse}\")"
   ]
  },
  {
   "cell_type": "code",
   "execution_count": 43,
   "id": "c308996a",
   "metadata": {},
   "outputs": [
    {
     "name": "stdout",
     "output_type": "stream",
     "text": [
      "+-------------+----------+----------+\n",
      "|TransactionID|CustomerID|prediction|\n",
      "+-------------+----------+----------+\n",
      "|           T1|  C5841053|         0|\n",
      "|          T10|  C6638934|         4|\n",
      "|         T100|  C1713934|         4|\n",
      "|      T100008|  C8632241|         2|\n",
      "|      T100020|  C2466557|         4|\n",
      "+-------------+----------+----------+\n",
      "only showing top 5 rows\n",
      "\n"
     ]
    }
   ],
   "source": [
    "# Show some of the predictions\n",
    "predictions.select(\"TransactionID\", \"CustomerID\", \"prediction\").show(5)"
   ]
  },
  {
   "cell_type": "code",
   "execution_count": 44,
   "id": "0e89bb0e",
   "metadata": {},
   "outputs": [
    {
     "name": "stdout",
     "output_type": "stream",
     "text": [
      "Silhouette Score = 0.22667428887600605\n"
     ]
    }
   ],
   "source": [
    "from pyspark.ml.evaluation import ClusteringEvaluator\n",
    "\n",
    "# Evaluate clustering by computing Silhouette Score\n",
    "evaluator = ClusteringEvaluator(featuresCol=\"scaledFeatures\")\n",
    "silhouette = evaluator.evaluate(predictions)\n",
    "print(f\"Silhouette Score = {silhouette}\")"
   ]
  },
  {
   "cell_type": "code",
   "execution_count": 45,
   "id": "389bf391",
   "metadata": {},
   "outputs": [],
   "source": [
    "# Silhouette Score = 0.22667428887600605\n",
    "# means some clusters are little overlapping\n",
    "# not a really good segmentation"
   ]
  },
  {
   "cell_type": "code",
   "execution_count": 46,
   "id": "ae45dd27",
   "metadata": {},
   "outputs": [
    {
     "data": {
      "image/png": "[encoded data removed]",
      "text/plain": [
       "<Figure size 720x432 with 1 Axes>"
      ]
     },
     "metadata": {
      "needs_background": "light"
     },
     "output_type": "display_data"
    }
   ],
   "source": [
    "# Visual Represetation\n",
    "# Get the cluster centers from the model\n",
    "centers = model.clusterCenters()\n",
    "\n",
    "# Convert the centers to a Pandas DataFrame for easier plotting\n",
    "centers_df = pd.DataFrame(centers, columns=feature_columns)\n",
    "\n",
    "# Plot the cluster centers\n",
    "plt.figure(figsize=(10, 6))\n",
    "plt.scatter(centers_df['CustAccountBalance'], centers_df['TransactionAmountINR'], \n",
    "            s=300, c='red', marker='x', label='Cluster Centers')\n",
    "plt.xlabel('Customer Account Balance')\n",
    "plt.ylabel('Transaction Amount INR')\n",
    "plt.title('Cluster Centers')\n",
    "plt.legend()\n",
    "plt.show()"
   ]
  },
  {
   "cell_type": "markdown",
   "id": "83c57784",
   "metadata": {},
   "source": [
    "# Conclusion of Hierarchical Clustering "
   ]
  },
  {
   "cell_type": "markdown",
   "id": "084114b2",
   "metadata": {},
   "source": [
    "#After performing Hierarchical Clustering we found no perfect clustering happening. \n",
    "#Within these at k=4 -> Silhouette Score is = 0.3844893147205863~0.4\n",
    "#means clustering has a moderate level of quality\n",
    "#Average segmentation\n",
    "\n",
    "#Because of this we are now performing K-Means Clustering "
   ]
  },
  {
   "cell_type": "markdown",
   "id": "767dd3ce",
   "metadata": {},
   "source": [
    "# ---------------------------------K-Means Clustering-----------------------------------------"
   ]
  },
  {
   "cell_type": "markdown",
   "id": "3e3b15e7",
   "metadata": {},
   "source": [
    "# Initializing Spark and Loading the Dataset"
   ]
  },
  {
   "cell_type": "code",
   "execution_count": 4,
   "id": "bc9f3240",
   "metadata": {},
   "outputs": [
    {
     "name": "stdout",
     "output_type": "stream",
     "text": [
      "+-------------+----------+----------+------------------+-------------------+--------------------+-----------+------------+\n",
      "|TransactionID|CustomerID|CustGender|CustAccountBalance|    TransactionDate|TransactionAmountINR|CustomerAge|CustLocation|\n",
      "+-------------+----------+----------+------------------+-------------------+--------------------+-----------+------------+\n",
      "|           T1|  C5841053|         F|          17819.05|2016-08-02 00:00:00|                25.0|         22|  JAMSHEDPUR|\n",
      "|           T3|  C4417068|         F|          17874.44|2016-08-02 00:00:00|               459.0|         19|      MUMBAI|\n",
      "|           T4|  C5342380|         F|          866503.2|2016-08-02 00:00:00|              2060.0|         43|      MUMBAI|\n",
      "|           T5|  C9031234|         F|           6714.43|2016-08-02 00:00:00|              1762.5|         28|      MUMBAI|\n",
      "|           T6|  C1536588|         F|           53609.2|2016-08-02 00:00:00|               676.0|         44|    ITANAGAR|\n",
      "+-------------+----------+----------+------------------+-------------------+--------------------+-----------+------------+\n",
      "only showing top 5 rows\n",
      "\n",
      "root\n",
      " |-- TransactionID: string (nullable = true)\n",
      " |-- CustomerID: string (nullable = true)\n",
      " |-- CustGender: string (nullable = true)\n",
      " |-- CustAccountBalance: double (nullable = true)\n",
      " |-- TransactionDate: timestamp (nullable = true)\n",
      " |-- TransactionAmountINR: double (nullable = true)\n",
      " |-- CustomerAge: integer (nullable = true)\n",
      " |-- CustLocation: string (nullable = true)\n",
      "\n"
     ]
    }
   ],
   "source": [
    "from pyspark.sql import SparkSession\n",
    "from pyspark.ml.feature import VectorAssembler, StandardScaler\n",
    "from pyspark.ml.clustering import KMeans\n",
    "from pyspark.ml.evaluation import ClusteringEvaluator\n",
    "from pyspark.sql.functions import col\n",
    "\n",
    "# Initialize a Spark session\n",
    "spark = SparkSession.builder.appName(\"KMeansClustering\").getOrCreate()\n",
    "\n",
    "# Load the dataset\n",
    "df = spark.read.csv(\"file:///home/talentum/shared/C-DAC_Project/Bank_Transaction_clean.csv\", header=True, inferSchema=True)\n",
    "\n",
    "# Display the first few rows and schema\n",
    "df.show(5)\n",
    "df.printSchema()"
   ]
  },
  {
   "cell_type": "markdown",
   "id": "e1d4c378",
   "metadata": {},
   "source": [
    "# Feature Selection"
   ]
  },
  {
   "cell_type": "code",
   "execution_count": 5,
   "id": "ae7da483",
   "metadata": {},
   "outputs": [],
   "source": [
    "# Selecting some features\n",
    "selected_features = ['CustAccountBalance', 'TransactionAmountINR', 'CustomerAge']  \n",
    "\n",
    "# Assemble the features into a feature vector\n",
    "assembler = VectorAssembler(inputCols=selected_features, outputCol=\"features\")\n",
    "assembled_data = assembler.transform(df)\n",
    "\n",
    "# Scale the features (optional but recommended)\n",
    "scaler = StandardScaler(inputCol=\"features\", outputCol=\"scaled_features\")\n",
    "scaled_data = scaler.fit(assembled_data).transform(assembled_data)"
   ]
  },
  {
   "cell_type": "markdown",
   "id": "aeb6c2b4",
   "metadata": {},
   "source": [
    "# Split the Data into Training and Test Sets"
   ]
  },
  {
   "cell_type": "code",
   "execution_count": 11,
   "id": "1af09e06",
   "metadata": {},
   "outputs": [],
   "source": [
    "# Split the data into training and test sets\n",
    "train_data, test_data = scaled_data.randomSplit([0.8, 0.2], seed=42)"
   ]
  },
  {
   "cell_type": "markdown",
   "id": "0c352b88",
   "metadata": {},
   "source": [
    "# WSSSE (within-set sum of squared errors)"
   ]
  },
  {
   "cell_type": "code",
   "execution_count": 12,
   "id": "e8ee9ec7",
   "metadata": {},
   "outputs": [
    {
     "name": "stdout",
     "output_type": "stream",
     "text": [
      "Within-Set Sum of Squared Errors (WSSSE) for k=2: 2096548.6272228307\n",
      "Within-Set Sum of Squared Errors (WSSSE) for k=3: 1718857.909876965\n",
      "Within-Set Sum of Squared Errors (WSSSE) for k=4: 1362694.8156975666\n",
      "Within-Set Sum of Squared Errors (WSSSE) for k=5: 1576638.8298198348\n",
      "Within-Set Sum of Squared Errors (WSSSE) for k=6: 913395.5354567793\n",
      "Within-Set Sum of Squared Errors (WSSSE) for k=7: 812115.0542557607\n",
      "Within-Set Sum of Squared Errors (WSSSE) for k=8: 709767.3363517001\n",
      "Within-Set Sum of Squared Errors (WSSSE) for k=9: 603701.7924731898\n",
      "Within-Set Sum of Squared Errors (WSSSE) for k=10: 538091.2120297395\n"
     ]
    }
   ],
   "source": [
    "# List to store WSSSE for each value of k\n",
    "wssse_list = []\n",
    "\n",
    "# Test different values of k (e.g., from 2 to 10)\n",
    "k_values = list(range(2, 11))\n",
    "\n",
    "for k in k_values:\n",
    "    kmeans = KMeans(featuresCol=\"scaled_features\", k=k)\n",
    "    model = kmeans.fit(scaled_data)\n",
    "    wssse = model.summary.trainingCost  # Sum of squared distances to the closest centroid\n",
    "    wssse_list.append(wssse)\n",
    "    print(f\"Within-Set Sum of Squared Errors (WSSSE) for k={k}: {wssse}\")\n"
   ]
  },
  {
   "cell_type": "markdown",
   "id": "8d6abffa",
   "metadata": {},
   "source": [
    "# implimenting elbow method to know k"
   ]
  },
  {
   "cell_type": "code",
   "execution_count": 15,
   "id": "1ca495f1",
   "metadata": {},
   "outputs": [
    {
     "data": {
      "image/png": "[encoded data removed]",
      "text/plain": [
       "<Figure size 720x432 with 1 Axes>"
      ]
     },
     "metadata": {
      "needs_background": "light"
     },
     "output_type": "display_data"
    }
   ],
   "source": [
    "# Plot the WSSSE values against k values to visualize the elbow\n",
    "import matplotlib.pyplot as plt\n",
    "import pandas as pd\n",
    "\n",
    "plt.figure(figsize=(10, 6))\n",
    "plt.plot(k_values, wssse_list, marker='o')\n",
    "plt.title(\"Elbow Method for Optimal k\")\n",
    "plt.xlabel(\"Number of clusters (k)\")\n",
    "plt.ylabel(\"Within-Set Sum of Squared Errors (WSSSE)\")\n",
    "plt.show()"
   ]
  },
  {
   "cell_type": "raw",
   "id": "70fd162e",
   "metadata": {},
   "source": [
    "#The Elbow Point:\n",
    "\n",
    "#The most significant drop in WSSSE occurs between k=6. After #k=6, the reduction in WSSSE continues but at a slower rate. \n",
    "#This suggests that k=6 might be the optimal number of clusters because adding more clusters beyond this point yields diminishing returns in terms of reducing WSSSE.\n"
   ]
  },
  {
   "cell_type": "markdown",
   "id": "e577b965",
   "metadata": {},
   "source": [
    "# Apply K-Means Clustering k=6"
   ]
  },
  {
   "cell_type": "code",
   "execution_count": 20,
   "id": "d7ff5bec",
   "metadata": {},
   "outputs": [],
   "source": [
    "# Initialize the K-Means model\n",
    "kmeans = KMeans(featuresCol=\"scaled_features\", k=6)  # Set k (number of clusters)\n",
    "\n",
    "# Fit the model on the training data\n",
    "model = kmeans.fit(train_data)\n",
    "\n",
    "# Make predictions on the test data\n",
    "predictions = model.transform(test_data)"
   ]
  },
  {
   "cell_type": "code",
   "execution_count": 21,
   "id": "f6882b6c",
   "metadata": {},
   "outputs": [
    {
     "name": "stdout",
     "output_type": "stream",
     "text": [
      "Silhouette score = 0.7064422271213497\n"
     ]
    }
   ],
   "source": [
    "# Evaluate clustering by computing the Silhouette score\n",
    "evaluator = ClusteringEvaluator(featuresCol=\"scaled_features\", metricName=\"silhouette\", distanceMeasure=\"squaredEuclidean\")\n",
    "\n",
    "silhouette = evaluator.evaluate(predictions)\n",
    "print(f\"Silhouette score = {silhouette}\")\n",
    "\n",
    "# Optionally, compute the accuracy by comparing predicted clusters with some true labels if available\n",
    "# This assumes you have a 'label' column in your dataset\n",
    "if 'label' in df.columns:\n",
    "    predictions_with_labels = predictions.withColumnRenamed(\"prediction\", \"cluster\")\n",
    "    correct_predictions = predictions_with_labels.filter(col(\"label\") == col(\"cluster\")).count()\n",
    "    total_data = predictions_with_labels.count()\n",
    "    accuracy = correct_predictions / total_data\n",
    "    print(f\"Accuracy = {accuracy}\")"
   ]
  },
  {
   "cell_type": "markdown",
   "id": "d81d81bc",
   "metadata": {},
   "source": [
    "# graphical representation of clusters at k=6"
   ]
  },
  {
   "cell_type": "code",
   "execution_count": 22,
   "id": "cc4164d8",
   "metadata": {},
   "outputs": [],
   "source": [
    "import pandas as pd\n",
    "import matplotlib.pyplot as plt"
   ]
  },
  {
   "cell_type": "code",
   "execution_count": 23,
   "id": "24f33ec3",
   "metadata": {},
   "outputs": [
    {
     "data": {
      "image/png": "[encoded data removed]",
      "text/plain": [
       "<Figure size 720x432 with 2 Axes>"
      ]
     },
     "metadata": {
      "needs_background": "light"
     },
     "output_type": "display_data"
    }
   ],
   "source": [
    "# Convert to pandas DataFrame for visualization\n",
    "pandas_df = predictions.select(\"scaled_features\", \"prediction\").toPandas()\n",
    "\n",
    "# Extract the selected features and the prediction column\n",
    "# Assume feature1 and feature2 are chosen for 2D plotting (you can select any two features)\n",
    "feature_vectors = pandas_df[\"scaled_features\"].apply(lambda x: pd.Series(x.toArray()))\n",
    "pandas_df = pd.concat([feature_vectors, pandas_df[\"prediction\"]], axis=1)\n",
    "pandas_df.columns = [\"feature1\", \"feature2\", \"feature3\", \"prediction\"]\n",
    "\n",
    "# Plot the clusters\n",
    "plt.figure(figsize=(10, 6))\n",
    "plt.scatter(pandas_df[\"feature1\"], pandas_df[\"feature2\"], c=pandas_df[\"prediction\"], cmap='viridis')\n",
    "plt.title(\"K-Means Clustering Results\")\n",
    "plt.xlabel(\"Feature 1\")\n",
    "plt.ylabel(\"Feature 2\")\n",
    "plt.colorbar(label=\"Cluster\")\n",
    "plt.show()"
   ]
  },
  {
   "cell_type": "markdown",
   "id": "4ea9f7e1",
   "metadata": {},
   "source": [
    "# Apply K-Means Clustering k=5"
   ]
  },
  {
   "cell_type": "code",
   "execution_count": 18,
   "id": "64c9b33d",
   "metadata": {},
   "outputs": [],
   "source": [
    "# Initialize the K-Means model\n",
    "kmeans = KMeans(featuresCol=\"scaled_features\", k=5)  # Set k (number of clusters)\n",
    "\n",
    "# Fit the model on the training data\n",
    "model = kmeans.fit(train_data)\n",
    "\n",
    "# Make predictions on the test data\n",
    "predictions = model.transform(test_data)"
   ]
  },
  {
   "cell_type": "code",
   "execution_count": 19,
   "id": "c76cb964",
   "metadata": {},
   "outputs": [
    {
     "name": "stdout",
     "output_type": "stream",
     "text": [
      "Silhouette score = 0.35284772298019385\n"
     ]
    }
   ],
   "source": [
    "# Evaluate clustering by computing the Silhouette score\n",
    "evaluator = ClusteringEvaluator(featuresCol=\"scaled_features\", metricName=\"silhouette\", distanceMeasure=\"squaredEuclidean\")\n",
    "\n",
    "silhouette = evaluator.evaluate(predictions)\n",
    "print(f\"Silhouette score = {silhouette}\")\n",
    "\n",
    "# Optionally, compute the accuracy by comparing predicted clusters with some true labels if available\n",
    "# This assumes you have a 'label' column in your dataset\n",
    "if 'label' in df.columns:\n",
    "    predictions_with_labels = predictions.withColumnRenamed(\"prediction\", \"cluster\")\n",
    "    correct_predictions = predictions_with_labels.filter(col(\"label\") == col(\"cluster\")).count()\n",
    "    total_data = predictions_with_labels.count()\n",
    "    accuracy = correct_predictions / total_data\n",
    "    print(f\"Accuracy = {accuracy}\")"
   ]
  },
  {
   "cell_type": "markdown",
   "id": "37643d13",
   "metadata": {},
   "source": [
    "# Apply K-Means Clustering k=4"
   ]
  },
  {
   "cell_type": "code",
   "execution_count": 16,
   "id": "4c5e76cd",
   "metadata": {},
   "outputs": [],
   "source": [
    "# Initialize the K-Means model\n",
    "kmeans = KMeans(featuresCol=\"scaled_features\", k=4)  # Set k (number of clusters)\n",
    "\n",
    "# Fit the model on the training data\n",
    "model = kmeans.fit(train_data)\n",
    "\n",
    "# Make predictions on the test data\n",
    "predictions = model.transform(test_data)"
   ]
  },
  {
   "cell_type": "code",
   "execution_count": 17,
   "id": "0acd7562",
   "metadata": {},
   "outputs": [
    {
     "name": "stdout",
     "output_type": "stream",
     "text": [
      "Silhouette score = 0.4052425238763991\n"
     ]
    }
   ],
   "source": [
    "# Evaluate clustering by computing the Silhouette score\n",
    "evaluator = ClusteringEvaluator(featuresCol=\"scaled_features\", metricName=\"silhouette\", distanceMeasure=\"squaredEuclidean\")\n",
    "\n",
    "silhouette = evaluator.evaluate(predictions)\n",
    "print(f\"Silhouette score = {silhouette}\")\n",
    "\n",
    "# Optionally, compute the accuracy by comparing predicted clusters with some true labels if available\n",
    "# This assumes you have a 'label' column in your dataset\n",
    "if 'label' in df.columns:\n",
    "    predictions_with_labels = predictions.withColumnRenamed(\"prediction\", \"cluster\")\n",
    "    correct_predictions = predictions_with_labels.filter(col(\"label\") == col(\"cluster\")).count()\n",
    "    total_data = predictions_with_labels.count()\n",
    "    accuracy = correct_predictions / total_data\n",
    "    print(f\"Accuracy = {accuracy}\")"
   ]
  },
  {
   "cell_type": "raw",
   "id": "f98ee08f",
   "metadata": {},
   "source": [
    "#so, when K=6 , Silhouette score = 0.7064422271213497 which is quite good.\n",
    "#thats why we are considering there are 6 clusters in the data"
   ]
  },
  {
   "cell_type": "markdown",
   "id": "24b445f1",
   "metadata": {},
   "source": [
    "# so, we are deciding that K-Means Clustering is usefull than Hierarchical Clustering"
   ]
  },
  {
   "cell_type": "markdown",
   "id": "96c0374c",
   "metadata": {},
   "source": [
    "# In that there are 5 numbers of clusters. Because Silhouette score = 0.6558622755139676"
   ]
  },
  {
   "cell_type": "markdown",
   "id": "bf8b0937",
   "metadata": {},
   "source": [
    "# details of the clusters at k=6"
   ]
  },
  {
   "cell_type": "code",
   "execution_count": 25,
   "id": "c8af71fa",
   "metadata": {},
   "outputs": [
    {
     "name": "stdout",
     "output_type": "stream",
     "text": [
      "Cluster Centers: \n",
      "[0.09937325 0.13883429 4.44152406]\n",
      "[0.2493328  0.23895196 6.22899455]\n",
      "[ 0.98168521 20.0122869   5.77353401]\n",
      "[0.3931866  4.69497487 5.41669584]\n",
      "[42.07157529  0.93799971  6.60728929]\n",
      "[8.98326435 0.54428315 6.19691144]\n"
     ]
    }
   ],
   "source": [
    "# Show the cluster centers\n",
    "centers = model.clusterCenters()\n",
    "print(\"Cluster Centers: \")\n",
    "for center in centers:\n",
    "    print(center)"
   ]
  },
  {
   "cell_type": "raw",
   "id": "5482f9e9",
   "metadata": {},
   "source": [
    "#These are the centroids or the average points of each cluster. In your case, you have six cluster centers, \n",
    "#each represented by three coordinates (likely features or dimensions in your data)."
   ]
  },
  {
   "cell_type": "code",
   "execution_count": 26,
   "id": "bfbce09f",
   "metadata": {},
   "outputs": [
    {
     "name": "stdout",
     "output_type": "stream",
     "text": [
      "+----------+------+\n",
      "|prediction| count|\n",
      "+----------+------+\n",
      "|         0|124931|\n",
      "|         1| 55381|\n",
      "|         3|  2006|\n",
      "|         5|   684|\n",
      "|         2|   168|\n",
      "|         4|    47|\n",
      "+----------+------+\n",
      "\n"
     ]
    }
   ],
   "source": [
    "# Count the number of data points in each cluster\n",
    "cluster_counts = predictions.groupBy(\"prediction\").count().orderBy(col(\"count\").desc())\n",
    "cluster_counts.show()"
   ]
  },
  {
   "cell_type": "code",
   "execution_count": 40,
   "id": "8c4b6139",
   "metadata": {},
   "outputs": [],
   "source": [
    "from pyspark.sql import functions as F\n",
    "# Define sql_min as a wrapper around F.min\n",
    "def sql_min(column):\n",
    "    return F.min(column)\n",
    "\n",
    "# Define sql_max as a wrapper around F.max\n",
    "def sql_max(column):\n",
    "    return F.max(column)"
   ]
  },
  {
   "cell_type": "code",
   "execution_count": 41,
   "id": "5eebacd6",
   "metadata": {},
   "outputs": [
    {
     "name": "stdout",
     "output_type": "stream",
     "text": [
      "Cluster 0:\n",
      "  Total data points: 124931\n",
      "  CustAccountBalance - Min: 0.0, Max: 2114403.0\n",
      "  TransactionAmountINR - Min: 0.0, Max: 15320.0\n",
      "  CustomerAge - Min: 18, Max: 31\n",
      "Cluster 1:\n",
      "  Total data points: 55381\n",
      "  CustAccountBalance - Min: 0.0, Max: 2050872.1\n",
      "  TransactionAmountINR - Min: 0.0, Max: 15573.0\n",
      "  CustomerAge - Min: 30, Max: 45\n",
      "Cluster 2:\n",
      "  Total data points: 168\n",
      "  CustAccountBalance - Min: 3.97, Max: 5037076.5\n",
      "  TransactionAmountINR - Min: 70000.0, Max: 1380002.9\n",
      "  CustomerAge - Min: 22, Max: 45\n",
      "Cluster 3:\n",
      "  Total data points: 2006\n",
      "  CustAccountBalance - Min: 0.0, Max: 2440121.8\n",
      "  TransactionAmountINR - Min: 13017.0, Max: 69182.0\n",
      "  CustomerAge - Min: 18, Max: 45\n",
      "Cluster 4:\n",
      "  Total data points: 47\n",
      "  CustAccountBalance - Min: 12343906.0, Max: 43165556.0\n",
      "  TransactionAmountINR - Min: 10.32, Max: 30000.0\n",
      "  CustomerAge - Min: 28, Max: 45\n",
      "Cluster 5:\n",
      "  Total data points: 684\n",
      "  CustAccountBalance - Min: 2053994.5, Max: 11091701.0\n",
      "  TransactionAmountINR - Min: 1.3, Max: 90599.0\n",
      "  CustomerAge - Min: 20, Max: 45\n"
     ]
    }
   ],
   "source": [
    "# Analyze clusters\n",
    "\n",
    "for i in range(kmeans.getK()):\n",
    "    print(f\"Cluster {i}:\")\n",
    "    \n",
    "    # Filter data for each cluster\n",
    "    cluster_data = predictions.filter(col(\"prediction\") == i)\n",
    "    \n",
    "    # Total data points in the cluster\n",
    "    total_points = cluster_data.count()\n",
    "    print(f\"  Total data points: {total_points}\")\n",
    "    \n",
    "    # Min and Max values for each feature in the cluster\n",
    "    for feature in ['CustAccountBalance', 'TransactionAmountINR', 'CustomerAge']:\n",
    "        min_val = cluster_data.agg(sql_min(col(feature))).first()[0]\n",
    "        max_val = cluster_data.agg(sql_max(col(feature))).first()[0]\n",
    "        print(f\"  {feature} - Min: {min_val}, Max: {max_val}\")"
   ]
  },
  {
   "cell_type": "code",
   "execution_count": 37,
   "id": "9ab28958",
   "metadata": {},
   "outputs": [],
   "source": []
  },
  {
   "cell_type": "code",
   "execution_count": null,
   "id": "00d262e6",
   "metadata": {},
   "outputs": [],
   "source": []
  }
 ],
 "metadata": {
  "kernelspec": {
   "display_name": "Python 3",
   "language": "python",
   "name": "python3"
  },
  "language_info": {
   "codemirror_mode": {
    "name": "ipython",
    "version": 3
   },
   "file_extension": ".py",
   "mimetype": "text/x-python",
   "name": "python",
   "nbconvert_exporter": "python",
   "pygments_lexer": "ipython3",
   "version": "3.6.9"
  }
 },
 "nbformat": 4,
 "nbformat_minor": 5
}
