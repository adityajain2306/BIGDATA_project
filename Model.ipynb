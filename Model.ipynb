{
 "cells": [
  {
   "cell_type": "code",
   "execution_count": 1,
   "id": "5636acc4",
   "metadata": {},
   "outputs": [],
   "source": [
    "# Intialization\n",
    "import os\n",
    "import sys\n",
    "\n",
    "os.environ[\"SPARK_HOME\"] = \"/home/talentum/spark\"\n",
    "os.environ[\"PYLIB\"] = os.environ[\"SPARK_HOME\"] + \"/python/lib\"\n",
    "# In below two lines, use /usr/bin/python2.7 if you want to use Python 2\n",
    "os.environ[\"PYSPARK_PYTHON\"] = \"/usr/bin/python3.6\" \n",
    "os.environ[\"PYSPARK_DRIVER_PYTHON\"] = \"/usr/bin/python3\"\n",
    "sys.path.insert(0, os.environ[\"PYLIB\"] +\"/py4j-0.10.7-src.zip\")\n",
    "sys.path.insert(0, os.environ[\"PYLIB\"] +\"/pyspark.zip\")\n",
    "\n",
    "# NOTE: Whichever package you want mention here.\n",
    "# os.environ['PYSPARK_SUBMIT_ARGS'] = '--packages com.databricks:spark-xml_2.11:0.6.0 pyspark-shell' \n",
    "# os.environ['PYSPARK_SUBMIT_ARGS'] = '--packages org.apache.spark:spark-avro_2.11:2.4.0 pyspark-shell'\n",
    "os.environ['PYSPARK_SUBMIT_ARGS'] = '--packages com.databricks:spark-xml_2.11:0.6.0,org.apache.spark:spark-avro_2.11:2.4.3 pyspark-shell'\n",
    "# os.environ['PYSPARK_SUBMIT_ARGS'] = '--packages com.databricks:spark-xml_2.11:0.6.0,org.apache.spark:spark-avro_2.11:2.4.0 pyspark-shell'"
   ]
  },
  {
   "cell_type": "code",
   "execution_count": 2,
   "id": "da5b45b1",
   "metadata": {},
   "outputs": [],
   "source": [
    "#Entrypoint 2.x\n",
    "from pyspark.sql import SparkSession\n",
    "spark = SparkSession.builder.appName(\"KMeans_Modeling\").enableHiveSupport().getOrCreate()\n",
    "\n",
    "# On yarn:\n",
    "# spark = SparkSession.builder.appName(\"Spark SQL basic example\").enableHiveSupport().master(\"yarn\").getOrCreate()\n",
    "# specify .master(\"yarn\")\n",
    "\n",
    "sc = spark.sparkContext"
   ]
  },
  {
   "cell_type": "code",
   "execution_count": 3,
   "id": "c48ba64b",
   "metadata": {},
   "outputs": [],
   "source": [
    "# Step 1: Import required libraries\n",
    "from pyspark.sql import SparkSession\n",
    "from pyspark.ml.feature import VectorAssembler\n",
    "from pyspark.ml.clustering import KMeans\n",
    "from pyspark.ml import Pipeline\n",
    "from pyspark.sql.functions import col"
   ]
  },
  {
   "cell_type": "code",
   "execution_count": 4,
   "id": "d54b96ea",
   "metadata": {},
   "outputs": [],
   "source": [
    "# Step 2: Initialize a Spark session\n",
    "spark = SparkSession.builder.master(\"local\").appName(\"ClusteringApp\").getOrCreate()"
   ]
  },
  {
   "cell_type": "code",
   "execution_count": 5,
   "id": "e68089da",
   "metadata": {},
   "outputs": [
    {
     "name": "stdout",
     "output_type": "stream",
     "text": [
      "+-------------+----------+----------+------------------+-------------------+--------------------+-----------+------------+\n",
      "|TransactionID|CustomerID|CustGender|CustAccountBalance|    TransactionDate|TransactionAmountINR|CustomerAge|CustLocation|\n",
      "+-------------+----------+----------+------------------+-------------------+--------------------+-----------+------------+\n",
      "|           T1|  C5841053|         F|          17819.05|2016-08-02 00:00:00|                25.0|         22|  JAMSHEDPUR|\n",
      "|           T3|  C4417068|         F|          17874.44|2016-08-02 00:00:00|               459.0|         19|      MUMBAI|\n",
      "|           T4|  C5342380|         F|          866503.2|2016-08-02 00:00:00|              2060.0|         43|      MUMBAI|\n",
      "|           T5|  C9031234|         F|           6714.43|2016-08-02 00:00:00|              1762.5|         28|      MUMBAI|\n",
      "|           T6|  C1536588|         F|           53609.2|2016-08-02 00:00:00|               676.0|         44|    ITANAGAR|\n",
      "+-------------+----------+----------+------------------+-------------------+--------------------+-----------+------------+\n",
      "only showing top 5 rows\n",
      "\n",
      "root\n",
      " |-- TransactionID: string (nullable = true)\n",
      " |-- CustomerID: string (nullable = true)\n",
      " |-- CustGender: string (nullable = true)\n",
      " |-- CustAccountBalance: double (nullable = true)\n",
      " |-- TransactionDate: timestamp (nullable = true)\n",
      " |-- TransactionAmountINR: double (nullable = true)\n",
      " |-- CustomerAge: integer (nullable = true)\n",
      " |-- CustLocation: string (nullable = true)\n",
      "\n"
     ]
    }
   ],
   "source": [
    "# Step 3: Load the CSV file into a DataFrame\n",
    "# Load the dataset\n",
    "df = spark.read.csv(\"file:///home/talentum/shared/C-DAC_Project/Bank_Transaction_clean.csv\", header=True, inferSchema=True)\n",
    "\n",
    "# Display the first few rows and schema\n",
    "df.show(5)\n",
    "df.printSchema()"
   ]
  },
  {
   "cell_type": "code",
   "execution_count": 6,
   "id": "5a856d36",
   "metadata": {},
   "outputs": [],
   "source": [
    "# Step 4: Select the relevant columns for clustering\n",
    "df = df.select(\"CustAccountBalance\", \"TransactionAmountINR\", \"CustomerAge\")"
   ]
  },
  {
   "cell_type": "code",
   "execution_count": 7,
   "id": "66bcb33f",
   "metadata": {},
   "outputs": [],
   "source": [
    "# Step 5: Data Preparation\n",
    "# Convert columns to a single feature vector\n",
    "assembler = VectorAssembler(inputCols=df.columns, outputCol=\"features\")\n",
    "assembled_data = assembler.transform(df)"
   ]
  },
  {
   "cell_type": "code",
   "execution_count": 8,
   "id": "dfa47515",
   "metadata": {},
   "outputs": [],
   "source": [
    "# Step 6: Train KMeans model with k=6\n",
    "kmeans = KMeans(k=6, seed=1, featuresCol=\"features\", predictionCol=\"prediction\")\n",
    "model = kmeans.fit(assembled_data)"
   ]
  },
  {
   "cell_type": "code",
   "execution_count": 9,
   "id": "b158409a",
   "metadata": {},
   "outputs": [
    {
     "name": "stdout",
     "output_type": "stream",
     "text": [
      "+------------------+--------------------+-----------+--------------------+----------+\n",
      "|CustAccountBalance|TransactionAmountINR|CustomerAge|            features|prediction|\n",
      "+------------------+--------------------+-----------+--------------------+----------+\n",
      "|          17819.05|                25.0|         22|[17819.05,25.0,22.0]|         0|\n",
      "|          17874.44|               459.0|         19|[17874.44,459.0,1...|         0|\n",
      "|          866503.2|              2060.0|         43|[866503.2,2060.0,...|         2|\n",
      "|           6714.43|              1762.5|         28|[6714.43,1762.5,2...|         0|\n",
      "|           53609.2|               676.0|         44|[53609.2,676.0,44.0]|         0|\n",
      "|            973.46|               566.0|         24| [973.46,566.0,24.0]|         0|\n",
      "|          95075.54|               148.0|         34|[95075.54,148.0,3...|         0|\n",
      "|          14906.96|               833.0|         28|[14906.96,833.0,2...|         0|\n",
      "|           4279.22|              289.11|         32|[4279.22,289.11,3...|         0|\n",
      "|          48429.49|               259.0|         34|[48429.49,259.0,3...|         0|\n",
      "|          14613.46|               202.0|         28|[14613.46,202.0,2...|         0|\n",
      "|          32274.78|             12300.0|         38|[32274.78,12300.0...|         0|\n",
      "|          59950.44|                50.0|         24|[59950.44,50.0,24.0]|         0|\n",
      "|          10100.84|               338.0|         38|[10100.84,338.0,3...|         0|\n",
      "|           2177.85|                54.0|         27| [2177.85,54.0,27.0]|         0|\n",
      "|          32816.17|               315.0|         25|[32816.17,315.0,2...|         0|\n",
      "|           10643.5|               945.0|         31|[10643.5,945.0,31.0]|         0|\n",
      "|           2934.22|                36.0|         23| [2934.22,36.0,23.0]|         0|\n",
      "|           4470.15|                27.0|         27| [4470.15,27.0,27.0]|         0|\n",
      "|          12868.42|               291.0|         30|[12868.42,291.0,3...|         0|\n",
      "+------------------+--------------------+-----------+--------------------+----------+\n",
      "only showing top 20 rows\n",
      "\n"
     ]
    }
   ],
   "source": [
    "# Step 7: Make predictions and add them to the DataFrame\n",
    "predictions = model.transform(assembled_data)\n",
    "predictions.show()"
   ]
  },
  {
   "cell_type": "code",
   "execution_count": 10,
   "id": "ee454816",
   "metadata": {},
   "outputs": [],
   "source": [
    "# Step 8: Save the model locally\n",
    "model.write().overwrite().save(\"file:///home/talentum/newp/Final_Model\")"
   ]
  },
  {
   "cell_type": "code",
   "execution_count": 11,
   "id": "5c48cb91",
   "metadata": {},
   "outputs": [],
   "source": [
    "# Step 9: Predict the cluster for new user input\n",
    "def predict_cluster(customerbalance, transactionamount, custlocation):\n",
    "    # Create a DataFrame for the new data point\n",
    "    new_data = spark.createDataFrame([(CustAccountBalance, TransactionAmountINR, CustomerAge)], \n",
    "                                     [\"CustAccountBalance\", \"TransactionAmountINR\", \"CustomerAge\"])\n",
    "    # Transform the data\n",
    "    new_data_transformed = assembler.transform(new_data)\n",
    "    # Predict the cluster\n",
    "    prediction = model.transform(new_data_transformed)\n",
    "    return prediction.select(\"prediction\").collect()[0][0]"
   ]
  },
  {
   "cell_type": "code",
   "execution_count": 13,
   "id": "30036df5",
   "metadata": {},
   "outputs": [
    {
     "name": "stdout",
     "output_type": "stream",
     "text": [
      "The predicted cluster for the user input is: 2\n"
     ]
    }
   ],
   "source": [
    "# Example prediction for user input\n",
    "CustAccountBalance= 866503.2\n",
    "TransactionAmountINR = 2060.0\n",
    "CustomerAge = 40\n",
    "predicted_cluster = predict_cluster(CustAccountBalance, TransactionAmountINR, CustomerAge)\n",
    "print(f\"The predicted cluster for the user input is: {predicted_cluster}\")"
   ]
  },
  {
   "cell_type": "code",
   "execution_count": null,
   "id": "951715ac",
   "metadata": {},
   "outputs": [],
   "source": []
  }
 ],
 "metadata": {
  "kernelspec": {
   "display_name": "Python 3",
   "language": "python",
   "name": "python3"
  },
  "language_info": {
   "codemirror_mode": {
    "name": "ipython",
    "version": 3
   },
   "file_extension": ".py",
   "mimetype": "text/x-python",
   "name": "python",
   "nbconvert_exporter": "python",
   "pygments_lexer": "ipython3",
   "version": "3.6.9"
  }
 },
 "nbformat": 4,
 "nbformat_minor": 5
}
