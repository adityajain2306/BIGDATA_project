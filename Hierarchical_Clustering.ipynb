{
 "cells": [
  {
   "cell_type": "markdown",
   "id": "23a48cab",
   "metadata": {},
   "source": [
    "# Clustering of Bank_Transaction_clean.csv"
   ]
  },
  {
   "cell_type": "markdown",
   "id": "d73d2954",
   "metadata": {},
   "source": [
    "# Set Up PySpark"
   ]
  },
  {
   "cell_type": "code",
   "execution_count": 1,
   "id": "07231e06",
   "metadata": {},
   "outputs": [],
   "source": [
    "# Intialization\n",
    "import os\n",
    "import sys\n",
    "\n",
    "os.environ[\"SPARK_HOME\"] = \"/home/talentum/spark\"\n",
    "os.environ[\"PYLIB\"] = os.environ[\"SPARK_HOME\"] + \"/python/lib\"\n",
    "# In below two lines, use /usr/bin/python2.7 if you want to use Python 2\n",
    "os.environ[\"PYSPARK_PYTHON\"] = \"/usr/bin/python3.6\" \n",
    "os.environ[\"PYSPARK_DRIVER_PYTHON\"] = \"/usr/bin/python3\"\n",
    "sys.path.insert(0, os.environ[\"PYLIB\"] +\"/py4j-0.10.7-src.zip\")\n",
    "sys.path.insert(0, os.environ[\"PYLIB\"] +\"/pyspark.zip\")\n",
    "\n",
    "os.environ['PYSPARK_SUBMIT_ARGS'] = '--packages com.databricks:spark-xml_2.11:0.6.0,org.apache.spark:spark-avro_2.11:2.4.3 pyspark-shell'\n"
   ]
  },
  {
   "cell_type": "code",
   "execution_count": 2,
   "id": "9d9fcbda",
   "metadata": {},
   "outputs": [],
   "source": [
    "#Entrypoint 2.x\n",
    "from pyspark.sql import SparkSession\n",
    "spark = SparkSession.builder.appName(\"HierarchicalClustering\").enableHiveSupport().getOrCreate()\n",
    "\n",
    "\n",
    "sc = spark.sparkContext"
   ]
  },
  {
   "cell_type": "markdown",
   "id": "8750401b",
   "metadata": {},
   "source": [
    "# Importing Libraries"
   ]
  },
  {
   "cell_type": "code",
   "execution_count": 3,
   "id": "c6aa73bc",
   "metadata": {},
   "outputs": [],
   "source": [
    "from pyspark.sql import SparkSession\n",
    "from pyspark.ml.feature import VectorAssembler, StandardScaler\n",
    "from pyspark.ml.clustering import BisectingKMeans"
   ]
  },
  {
   "cell_type": "markdown",
   "id": "ae5baa86",
   "metadata": {},
   "source": [
    "# Load the Data"
   ]
  },
  {
   "cell_type": "code",
   "execution_count": 3,
   "id": "4389d9fa",
   "metadata": {},
   "outputs": [],
   "source": [
    "data = spark.read.csv(\"file:///home/talentum/shared/C-DAC_Project/Bank_Transaction_clean.csv\", header=True, inferSchema=True)"
   ]
  },
  {
   "cell_type": "code",
   "execution_count": 5,
   "id": "6120f01d",
   "metadata": {},
   "outputs": [
    {
     "name": "stdout",
     "output_type": "stream",
     "text": [
      "+-------------+----------+----------+------------------+-------------------+--------------------+-----------+------------+\n",
      "|TransactionID|CustomerID|CustGender|CustAccountBalance|    TransactionDate|TransactionAmountINR|CustomerAge|CustLocation|\n",
      "+-------------+----------+----------+------------------+-------------------+--------------------+-----------+------------+\n",
      "|           T1|  C5841053|         F|          17819.05|2016-08-02 00:00:00|                25.0|         22|  JAMSHEDPUR|\n",
      "|           T3|  C4417068|         F|          17874.44|2016-08-02 00:00:00|               459.0|         19|      MUMBAI|\n",
      "|           T4|  C5342380|         F|          866503.2|2016-08-02 00:00:00|              2060.0|         43|      MUMBAI|\n",
      "|           T5|  C9031234|         F|           6714.43|2016-08-02 00:00:00|              1762.5|         28|      MUMBAI|\n",
      "|           T6|  C1536588|         F|           53609.2|2016-08-02 00:00:00|               676.0|         44|    ITANAGAR|\n",
      "+-------------+----------+----------+------------------+-------------------+--------------------+-----------+------------+\n",
      "only showing top 5 rows\n",
      "\n"
     ]
    }
   ],
   "source": [
    "data.show(5)"
   ]
  },
  {
   "cell_type": "code",
   "execution_count": 6,
   "id": "df866686",
   "metadata": {},
   "outputs": [
    {
     "name": "stdout",
     "output_type": "stream",
     "text": [
      "917533 8\n"
     ]
    }
   ],
   "source": [
    "# Count the number of rows and columns\n",
    "row_count = data.count()\n",
    "column_count = len(data.columns)\n",
    "print(row_count,column_count)"
   ]
  },
  {
   "cell_type": "markdown",
   "id": "53a65f72",
   "metadata": {},
   "source": [
    "# -----------------------------------Hierarchical Clustering-------------------------------------"
   ]
  },
  {
   "cell_type": "markdown",
   "id": "77841fd0",
   "metadata": {},
   "source": [
    "# Feature Selection\n",
    "#Select the features that is efficient for clustering. For this , we'll use:\n",
    "\n",
    "#CustAccountBalance\n",
    "#TransactionAmountINR\n",
    "#CustomerAge"
   ]
  },
  {
   "cell_type": "code",
   "execution_count": null,
   "id": "b841fed0",
   "metadata": {},
   "outputs": [],
   "source": [
    "# Selecting relevant numerical features for clustering"
   ]
  },
  {
   "cell_type": "code",
   "execution_count": 7,
   "id": "402dcd23",
   "metadata": {},
   "outputs": [],
   "source": [
    "from pyspark.ml.feature import VectorAssembler, StandardScaler\n",
    "\n",
    "feature_columns = ['CustAccountBalance', 'TransactionAmountINR', 'CustomerAge']"
   ]
  },
  {
   "cell_type": "code",
   "execution_count": null,
   "id": "dc91eb30",
   "metadata": {},
   "outputs": [],
   "source": [
    "# Assembling the features into a single vector column"
   ]
  },
  {
   "cell_type": "code",
   "execution_count": 8,
   "id": "965057e9",
   "metadata": {},
   "outputs": [],
   "source": [
    "assembler = VectorAssembler(inputCols=feature_columns, outputCol=\"features\")\n",
    "assembled_data = assembler.transform(data)"
   ]
  },
  {
   "cell_type": "markdown",
   "id": "6454f45d",
   "metadata": {},
   "source": [
    "# Standardize the features"
   ]
  },
  {
   "cell_type": "code",
   "execution_count": 9,
   "id": "9d730607",
   "metadata": {},
   "outputs": [],
   "source": [
    "scaler = StandardScaler(inputCol=\"features\", outputCol=\"scaledFeatures\", withStd=True, withMean=True)\n",
    "scaler_model = scaler.fit(assembled_data)\n",
    "scaled_data = scaler_model.transform(assembled_data)"
   ]
  },
  {
   "cell_type": "code",
   "execution_count": 10,
   "id": "ca5b635a",
   "metadata": {},
   "outputs": [
    {
     "name": "stdout",
     "output_type": "stream",
     "text": [
      "+--------------------+\n",
      "|      scaledFeatures|\n",
      "+--------------------+\n",
      "|[-0.1525368065267...|\n",
      "|[-0.1524116923635...|\n",
      "|[1.76445917186732...|\n",
      "|[-0.1776197680520...|\n",
      "|[-0.0716945124694...|\n",
      "+--------------------+\n",
      "only showing top 5 rows\n",
      "\n"
     ]
    }
   ],
   "source": [
    "# Show the scaled data\n",
    "scaled_data.select(\"scaledFeatures\").show(5)"
   ]
  },
  {
   "cell_type": "markdown",
   "id": "099c41ed",
   "metadata": {},
   "source": [
    "# Split the data into training and test sets"
   ]
  },
  {
   "cell_type": "code",
   "execution_count": 11,
   "id": "4dd62461",
   "metadata": {},
   "outputs": [
    {
     "name": "stdout",
     "output_type": "stream",
     "text": [
      "Training Data Count: 734368\n",
      "Test Data Count: 183165\n"
     ]
    }
   ],
   "source": [
    "# Splitting the data into training and testing data sets\n",
    "train_data, test_data = scaled_data.randomSplit([0.8, 0.2], seed=42)\n",
    "\n",
    "# Show the count of each dataset\n",
    "print(f\"Training Data Count: {train_data.count()}\")\n",
    "print(f\"Test Data Count: {test_data.count()}\")"
   ]
  },
  {
   "cell_type": "markdown",
   "id": "e09431e2",
   "metadata": {},
   "source": [
    "# Perform Hierarchical Clustering using PySpark k=3"
   ]
  },
  {
   "cell_type": "markdown",
   "id": "8b5e1d7e",
   "metadata": {},
   "source": [
    "#Apply BisectingKMeans for hierarchical clustering on the training data"
   ]
  },
  {
   "cell_type": "code",
   "execution_count": 12,
   "id": "d5552657",
   "metadata": {},
   "outputs": [],
   "source": [
    "from pyspark.ml.clustering import BisectingKMeans\n",
    "\n",
    "bkmeans = BisectingKMeans(k=3, featuresCol=\"scaledFeatures\", seed=42)\n",
    "model = bkmeans.fit(train_data)"
   ]
  },
  {
   "cell_type": "code",
   "execution_count": 13,
   "id": "dafa292b",
   "metadata": {},
   "outputs": [],
   "source": [
    "# Make predictions on the test data\n",
    "predictions = model.transform(test_data)"
   ]
  },
  {
   "cell_type": "code",
   "execution_count": 14,
   "id": "03d67c79",
   "metadata": {},
   "outputs": [
    {
     "name": "stdout",
     "output_type": "stream",
     "text": [
      "Within Set Sum of Squared Errors = 516457.1109158634\n"
     ]
    }
   ],
   "source": [
    "# Evaluate clustering by computing Within Set Sum of Squared Errors (WSSSE)\n",
    "wssse = model.computeCost(test_data)\n",
    "print(f\"Within Set Sum of Squared Errors = {wssse}\")"
   ]
  },
  {
   "cell_type": "code",
   "execution_count": 15,
   "id": "602c33fb",
   "metadata": {},
   "outputs": [
    {
     "name": "stdout",
     "output_type": "stream",
     "text": [
      "+-------------+----------+----------+\n",
      "|TransactionID|CustomerID|prediction|\n",
      "+-------------+----------+----------+\n",
      "|           T1|  C5841053|         0|\n",
      "|          T10|  C6638934|         2|\n",
      "|         T100|  C1713934|         2|\n",
      "|      T100008|  C8632241|         1|\n",
      "|      T100020|  C2466557|         2|\n",
      "+-------------+----------+----------+\n",
      "only showing top 5 rows\n",
      "\n"
     ]
    }
   ],
   "source": [
    "# Show some of the predictions\n",
    "predictions.select(\"TransactionID\", \"CustomerID\", \"prediction\").show(5)"
   ]
  },
  {
   "cell_type": "markdown",
   "id": "44ea7456",
   "metadata": {},
   "source": [
    "# Evaluate the Model"
   ]
  },
  {
   "cell_type": "code",
   "execution_count": 16,
   "id": "58d5726b",
   "metadata": {},
   "outputs": [
    {
     "name": "stdout",
     "output_type": "stream",
     "text": [
      "Silhouette Score = 0.1774224231267608\n"
     ]
    }
   ],
   "source": [
    "from pyspark.ml.evaluation import ClusteringEvaluator\n",
    "\n",
    "# Evaluate clustering by computing Silhouette Score\n",
    "evaluator = ClusteringEvaluator(featuresCol=\"scaledFeatures\")\n",
    "silhouette = evaluator.evaluate(predictions)\n",
    "print(f\"Silhouette Score = {silhouette}\")"
   ]
  },
  {
   "cell_type": "code",
   "execution_count": 17,
   "id": "0e8282b1",
   "metadata": {},
   "outputs": [],
   "source": [
    "# Silhouette Score = 0.1774224231267608\n",
    "# means clusters are overlapping\n",
    "# not a really good segmentation"
   ]
  },
  {
   "cell_type": "markdown",
   "id": "cb2fed8e",
   "metadata": {},
   "source": [
    "# Visualizing the Cluster Centers"
   ]
  },
  {
   "cell_type": "code",
   "execution_count": 18,
   "id": "68282332",
   "metadata": {},
   "outputs": [
    {
     "data": {
      "image/png": "[encoded data removed]",
      "text/plain": [
       "<Figure size 720x432 with 1 Axes>"
      ]
     },
     "metadata": {
      "needs_background": "light"
     },
     "output_type": "display_data"
    }
   ],
   "source": [
    "import matplotlib.pyplot as plt\n",
    "import pandas as pd\n",
    "\n",
    "# cluster centers from the model\n",
    "centers = model.clusterCenters()\n",
    "\n",
    "# Convert the centers to a Pandas DataFrame for easier plotting\n",
    "centers_df = pd.DataFrame(centers, columns=feature_columns)\n",
    "\n",
    "# Plot the cluster centers\n",
    "plt.figure(figsize=(10, 6))\n",
    "plt.scatter(centers_df['CustAccountBalance'], centers_df['TransactionAmountINR'], \n",
    "            s=300, c='red', marker='x', label='Cluster Centers')\n",
    "plt.xlabel('Customer Account Balance')\n",
    "plt.ylabel('Transaction Amount INR')\n",
    "plt.title('Cluster Centers')\n",
    "plt.legend()\n",
    "plt.show()"
   ]
  },
  {
   "cell_type": "markdown",
   "id": "3f6fd856",
   "metadata": {},
   "source": [
    "# Perform Hierarchical Clustering using PySpark k=4"
   ]
  },
  {
   "cell_type": "code",
   "execution_count": 19,
   "id": "29d2f2c4",
   "metadata": {},
   "outputs": [],
   "source": [
    "from pyspark.ml.clustering import BisectingKMeans\n",
    "\n",
    "bkmeans = BisectingKMeans(k=4, featuresCol=\"scaledFeatures\", seed=42)\n",
    "model = bkmeans.fit(train_data)"
   ]
  },
  {
   "cell_type": "code",
   "execution_count": 20,
   "id": "39fcd5dd",
   "metadata": {},
   "outputs": [],
   "source": [
    "predictions = model.transform(test_data)"
   ]
  },
  {
   "cell_type": "code",
   "execution_count": 21,
   "id": "a4c2c3d9",
   "metadata": {},
   "outputs": [
    {
     "name": "stdout",
     "output_type": "stream",
     "text": [
      "Within Set Sum of Squared Errors = 421785.46341206576\n"
     ]
    }
   ],
   "source": [
    "wssse = model.computeCost(test_data)\n",
    "print(f\"Within Set Sum of Squared Errors = {wssse}\")"
   ]
  },
  {
   "cell_type": "code",
   "execution_count": 22,
   "id": "8364ab1b",
   "metadata": {},
   "outputs": [
    {
     "name": "stdout",
     "output_type": "stream",
     "text": [
      "+-------------+----------+----------+\n",
      "|TransactionID|CustomerID|prediction|\n",
      "+-------------+----------+----------+\n",
      "|           T1|  C5841053|         0|\n",
      "|          T10|  C6638934|         2|\n",
      "|         T100|  C1713934|         2|\n",
      "|      T100008|  C8632241|         1|\n",
      "|      T100020|  C2466557|         2|\n",
      "+-------------+----------+----------+\n",
      "only showing top 5 rows\n",
      "\n"
     ]
    }
   ],
   "source": [
    "predictions.select(\"TransactionID\", \"CustomerID\", \"prediction\").show(5)"
   ]
  },
  {
   "cell_type": "code",
   "execution_count": 23,
   "id": "139aa7cd",
   "metadata": {},
   "outputs": [
    {
     "name": "stdout",
     "output_type": "stream",
     "text": [
      "Silhouette Score = 0.3844893147205863\n"
     ]
    }
   ],
   "source": [
    "#Evaluate the Model when k=4\n",
    "from pyspark.ml.evaluation import ClusteringEvaluator\n",
    "\n",
    "evaluator = ClusteringEvaluator(featuresCol=\"scaledFeatures\")\n",
    "silhouette = evaluator.evaluate(predictions)\n",
    "print(f\"Silhouette Score = {silhouette}\")"
   ]
  },
  {
   "cell_type": "code",
   "execution_count": 24,
   "id": "2c15840a",
   "metadata": {},
   "outputs": [],
   "source": [
    "# Silhouette Score = 0.3844893147205863~0.4\n",
    "# means clustering has a moderate level of quality\n",
    "# Average segmentation"
   ]
  },
  {
   "cell_type": "code",
   "execution_count": 25,
   "id": "6d2c0c8a",
   "metadata": {},
   "outputs": [
    {
     "data": {
      "image/png": "[encoded data removed]",
      "text/plain": [
       "<Figure size 720x432 with 1 Axes>"
      ]
     },
     "metadata": {
      "needs_background": "light"
     },
     "output_type": "display_data"
    }
   ],
   "source": [
    "# Visual Represetation\n",
    "centers = model.clusterCenters()\n",
    "\n",
    "centers_df = pd.DataFrame(centers, columns=feature_columns)\n",
    "\n",
    "# Plot the cluster centers\n",
    "plt.figure(figsize=(10, 6))\n",
    "plt.scatter(centers_df['CustAccountBalance'], centers_df['TransactionAmountINR'], \n",
    "            s=300, c='red', marker='x', label='Cluster Centers')\n",
    "plt.xlabel('Customer Account Balance')\n",
    "plt.ylabel('Transaction Amount INR')\n",
    "plt.title('Cluster Centers')\n",
    "plt.legend()\n",
    "plt.show()"
   ]
  },
  {
   "cell_type": "markdown",
   "id": "c952c0f2",
   "metadata": {},
   "source": [
    "# Perform Hierarchical Clustering using PySpark k=5"
   ]
  },
  {
   "cell_type": "code",
   "execution_count": 26,
   "id": "5d3a805b",
   "metadata": {},
   "outputs": [],
   "source": [
    "from pyspark.ml.clustering import BisectingKMeans\n",
    "\n",
    "bkmeans = BisectingKMeans(k=5, featuresCol=\"scaledFeatures\", seed=42)\n",
    "model = bkmeans.fit(train_data)"
   ]
  },
  {
   "cell_type": "code",
   "execution_count": 27,
   "id": "61aae502",
   "metadata": {},
   "outputs": [],
   "source": [
    "predictions = model.transform(test_data)"
   ]
  },
  {
   "cell_type": "code",
   "execution_count": 28,
   "id": "98351d03",
   "metadata": {},
   "outputs": [
    {
     "name": "stdout",
     "output_type": "stream",
     "text": [
      "Within Set Sum of Squared Errors = 416709.6227938428\n"
     ]
    }
   ],
   "source": [
    "wssse = model.computeCost(test_data)\n",
    "print(f\"Within Set Sum of Squared Errors = {wssse}\")"
   ]
  },
  {
   "cell_type": "code",
   "execution_count": 29,
   "id": "125cfaed",
   "metadata": {},
   "outputs": [
    {
     "name": "stdout",
     "output_type": "stream",
     "text": [
      "+-------------+----------+----------+\n",
      "|TransactionID|CustomerID|prediction|\n",
      "+-------------+----------+----------+\n",
      "|           T1|  C5841053|         0|\n",
      "|          T10|  C6638934|         3|\n",
      "|         T100|  C1713934|         3|\n",
      "|      T100008|  C8632241|         2|\n",
      "|      T100020|  C2466557|         3|\n",
      "+-------------+----------+----------+\n",
      "only showing top 5 rows\n",
      "\n"
     ]
    }
   ],
   "source": [
    "predictions.select(\"TransactionID\", \"CustomerID\", \"prediction\").show(5)"
   ]
  },
  {
   "cell_type": "code",
   "execution_count": 30,
   "id": "e4e10a92",
   "metadata": {},
   "outputs": [
    {
     "name": "stdout",
     "output_type": "stream",
     "text": [
      "Silhouette Score = 0.22922364032328763\n"
     ]
    }
   ],
   "source": [
    "#Evaluate the Model\n",
    "from pyspark.ml.evaluation import ClusteringEvaluator\n",
    "\n",
    "evaluator = ClusteringEvaluator(featuresCol=\"scaledFeatures\")\n",
    "silhouette = evaluator.evaluate(predictions)\n",
    "print(f\"Silhouette Score = {silhouette}\")"
   ]
  },
  {
   "cell_type": "code",
   "execution_count": 31,
   "id": "98e7231c",
   "metadata": {},
   "outputs": [],
   "source": [
    "# Silhouette Score = 0.22922364032328763\n",
    "# means some clusters are little overlapping\n",
    "# not a really good segmentation"
   ]
  },
  {
   "cell_type": "code",
   "execution_count": 32,
   "id": "23975b1a",
   "metadata": {},
   "outputs": [
    {
     "data": {
      "image/png": "[encoded data removed]",
      "text/plain": [
       "<Figure size 720x432 with 1 Axes>"
      ]
     },
     "metadata": {
      "needs_background": "light"
     },
     "output_type": "display_data"
    }
   ],
   "source": [
    "# Visual Represetation\n",
    "centers = model.clusterCenters()\n",
    "\n",
    "centers_df = pd.DataFrame(centers, columns=feature_columns)\n",
    "\n",
    "# Plot the cluster centers\n",
    "plt.figure(figsize=(10, 6))\n",
    "plt.scatter(centers_df['CustAccountBalance'], centers_df['TransactionAmountINR'], \n",
    "            s=300, c='red', marker='x', label='Cluster Centers')\n",
    "plt.xlabel('Customer Account Balance')\n",
    "plt.ylabel('Transaction Amount INR')\n",
    "plt.title('Cluster Centers')\n",
    "plt.legend()\n",
    "plt.show()"
   ]
  },
  {
   "cell_type": "markdown",
   "id": "1c4cc2e6",
   "metadata": {},
   "source": [
    "# Perform Hierarchical Clustering using PySpark k=6"
   ]
  },
  {
   "cell_type": "code",
   "execution_count": 33,
   "id": "2a487d58",
   "metadata": {},
   "outputs": [],
   "source": [
    "from pyspark.ml.clustering import BisectingKMeans\n",
    "\n",
    "bkmeans = BisectingKMeans(k=6, featuresCol=\"scaledFeatures\", seed=42)\n",
    "model = bkmeans.fit(train_data)"
   ]
  },
  {
   "cell_type": "code",
   "execution_count": 34,
   "id": "d714a911",
   "metadata": {},
   "outputs": [],
   "source": [
    "predictions = model.transform(test_data)"
   ]
  },
  {
   "cell_type": "code",
   "execution_count": 35,
   "id": "bb353ec6",
   "metadata": {},
   "outputs": [
    {
     "name": "stdout",
     "output_type": "stream",
     "text": [
      "Within Set Sum of Squared Errors = 389168.6443254269\n"
     ]
    }
   ],
   "source": [
    "wssse = model.computeCost(test_data)\n",
    "print(f\"Within Set Sum of Squared Errors = {wssse}\")"
   ]
  },
  {
   "cell_type": "code",
   "execution_count": 36,
   "id": "717bdde3",
   "metadata": {},
   "outputs": [
    {
     "name": "stdout",
     "output_type": "stream",
     "text": [
      "+-------------+----------+----------+\n",
      "|TransactionID|CustomerID|prediction|\n",
      "+-------------+----------+----------+\n",
      "|           T1|  C5841053|         0|\n",
      "|          T10|  C6638934|         3|\n",
      "|         T100|  C1713934|         3|\n",
      "|      T100008|  C8632241|         2|\n",
      "|      T100020|  C2466557|         3|\n",
      "+-------------+----------+----------+\n",
      "only showing top 5 rows\n",
      "\n"
     ]
    }
   ],
   "source": [
    "predictions.select(\"TransactionID\", \"CustomerID\", \"prediction\").show(5)"
   ]
  },
  {
   "cell_type": "code",
   "execution_count": 37,
   "id": "94812ec0",
   "metadata": {},
   "outputs": [
    {
     "name": "stdout",
     "output_type": "stream",
     "text": [
      "Silhouette Score = 0.2915497689612963\n"
     ]
    }
   ],
   "source": [
    "from pyspark.ml.evaluation import ClusteringEvaluator\n",
    "\n",
    "evaluator = ClusteringEvaluator(featuresCol=\"scaledFeatures\")\n",
    "silhouette = evaluator.evaluate(predictions)\n",
    "print(f\"Silhouette Score = {silhouette}\")"
   ]
  },
  {
   "cell_type": "code",
   "execution_count": 38,
   "id": "098b7994",
   "metadata": {},
   "outputs": [],
   "source": [
    "# Silhouette Score = 0.2915497689612963\n",
    "# means some clusters are little overlapping\n",
    "# not a really good segmentation"
   ]
  },
  {
   "cell_type": "code",
   "execution_count": 39,
   "id": "604ca3d1",
   "metadata": {},
   "outputs": [
    {
     "data": {
      "image/png": "[encoded data removed]",
      "text/plain": [
       "<Figure size 720x432 with 1 Axes>"
      ]
     },
     "metadata": {
      "needs_background": "light"
     },
     "output_type": "display_data"
    }
   ],
   "source": [
    "# Visual Represetation\n",
    "centers = model.clusterCenters()\n",
    "\n",
    "centers_df = pd.DataFrame(centers, columns=feature_columns)\n",
    "\n",
    "# Plot the cluster centers\n",
    "plt.figure(figsize=(10, 6))\n",
    "plt.scatter(centers_df['CustAccountBalance'], centers_df['TransactionAmountINR'], \n",
    "            s=300, c='red', marker='x', label='Cluster Centers')\n",
    "plt.xlabel('Customer Account Balance')\n",
    "plt.ylabel('Transaction Amount INR')\n",
    "plt.title('Cluster Centers')\n",
    "plt.legend()\n",
    "plt.show()"
   ]
  },
  {
   "cell_type": "markdown",
   "id": "6f50d6ba",
   "metadata": {},
   "source": [
    "# Perform Hierarchical Clustering using PySpark k=8"
   ]
  },
  {
   "cell_type": "code",
   "execution_count": 40,
   "id": "55dddf1c",
   "metadata": {},
   "outputs": [],
   "source": [
    "from pyspark.ml.clustering import BisectingKMeans\n",
    "\n",
    "bkmeans = BisectingKMeans(k=8, featuresCol=\"scaledFeatures\", seed=42)\n",
    "model = bkmeans.fit(train_data)"
   ]
  },
  {
   "cell_type": "code",
   "execution_count": 41,
   "id": "8eb807d8",
   "metadata": {},
   "outputs": [],
   "source": [
    "predictions = model.transform(test_data)"
   ]
  },
  {
   "cell_type": "code",
   "execution_count": 42,
   "id": "2115bc80",
   "metadata": {},
   "outputs": [
    {
     "name": "stdout",
     "output_type": "stream",
     "text": [
      "Within Set Sum of Squared Errors = 305029.1065373118\n"
     ]
    }
   ],
   "source": [
    "wssse = model.computeCost(test_data)\n",
    "print(f\"Within Set Sum of Squared Errors = {wssse}\")"
   ]
  },
  {
   "cell_type": "code",
   "execution_count": 43,
   "id": "c308996a",
   "metadata": {},
   "outputs": [
    {
     "name": "stdout",
     "output_type": "stream",
     "text": [
      "+-------------+----------+----------+\n",
      "|TransactionID|CustomerID|prediction|\n",
      "+-------------+----------+----------+\n",
      "|           T1|  C5841053|         0|\n",
      "|          T10|  C6638934|         4|\n",
      "|         T100|  C1713934|         4|\n",
      "|      T100008|  C8632241|         2|\n",
      "|      T100020|  C2466557|         4|\n",
      "+-------------+----------+----------+\n",
      "only showing top 5 rows\n",
      "\n"
     ]
    }
   ],
   "source": [
    "predictions.select(\"TransactionID\", \"CustomerID\", \"prediction\").show(5)"
   ]
  },
  {
   "cell_type": "code",
   "execution_count": 44,
   "id": "0e89bb0e",
   "metadata": {},
   "outputs": [
    {
     "name": "stdout",
     "output_type": "stream",
     "text": [
      "Silhouette Score = 0.22667428887600605\n"
     ]
    }
   ],
   "source": [
    "from pyspark.ml.evaluation import ClusteringEvaluator\n",
    "\n",
    "evaluator = ClusteringEvaluator(featuresCol=\"scaledFeatures\")\n",
    "silhouette = evaluator.evaluate(predictions)\n",
    "print(f\"Silhouette Score = {silhouette}\")"
   ]
  },
  {
   "cell_type": "code",
   "execution_count": 45,
   "id": "389bf391",
   "metadata": {},
   "outputs": [],
   "source": [
    "# Silhouette Score = 0.22667428887600605\n",
    "# means some clusters are little overlapping\n",
    "# not a really good segmentation"
   ]
  },
  {
   "cell_type": "code",
   "execution_count": 46,
   "id": "ae45dd27",
   "metadata": {},
   "outputs": [
    {
     "data": {
      "image/png": "[encoded data removed]",
      "text/plain": [
       "<Figure size 720x432 with 1 Axes>"
      ]
     },
     "metadata": {
      "needs_background": "light"
     },
     "output_type": "display_data"
    }
   ],
   "source": [
    "# Visual Represetation\n",
    "centers = model.clusterCenters()\n",
    "\n",
    "centers_df = pd.DataFrame(centers, columns=feature_columns)\n",
    "\n",
    "# Plot the cluster centers\n",
    "plt.figure(figsize=(10, 6))\n",
    "plt.scatter(centers_df['CustAccountBalance'], centers_df['TransactionAmountINR'], \n",
    "            s=300, c='red', marker='x', label='Cluster Centers')\n",
    "plt.xlabel('Customer Account Balance')\n",
    "plt.ylabel('Transaction Amount INR')\n",
    "plt.title('Cluster Centers')\n",
    "plt.legend()\n",
    "plt.show()"
   ]
  },
  {
   "cell_type": "markdown",
   "id": "83c57784",
   "metadata": {},
   "source": [
    "# Conclusion of Hierarchical Clustering "
   ]
  },
  {
   "cell_type": "code",
   "execution_count": 12,
   "id": "2e52ef16",
   "metadata": {},
   "outputs": [],
   "source": [
    "#After performing Hierarchical Clustering we found no perfect clustering happening. \n",
    "#Within these at k=4 -> Silhouette Score is = 0.3844893147205863~0.4\n",
    "#means clustering has a moderate level of quality\n",
    "#Average segmentation "
   ]
  },
  {
   "cell_type": "markdown",
   "id": "b1716969",
   "metadata": {},
   "source": [
    "# Because of this we are now performing K-Means Clustering"
   ]
  },
  {
   "cell_type": "code",
   "execution_count": null,
   "id": "d1fd88ec",
   "metadata": {},
   "outputs": [],
   "source": []
  }
 ],
 "metadata": {
  "kernelspec": {
   "display_name": "Python 3 (ipykernel)",
   "language": "python",
   "name": "python3"
  },
  "language_info": {
   "codemirror_mode": {
    "name": "ipython",
    "version": 3
   },
   "file_extension": ".py",
   "mimetype": "text/x-python",
   "name": "python",
   "nbconvert_exporter": "python",
   "pygments_lexer": "ipython3",
   "version": "3.11.5"
  }
 },
 "nbformat": 4,
 "nbformat_minor": 5
}
